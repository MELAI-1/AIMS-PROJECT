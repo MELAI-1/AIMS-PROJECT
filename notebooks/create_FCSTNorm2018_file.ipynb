{
  "cells": [
    {
      "cell_type": "code",
      "id": "uspSxOLJM2JV23kKx4YSOift",
      "metadata": {
        "tags": [],
        "id": "uspSxOLJM2JV23kKx4YSOift"
      },
      "source": [
        "# strucutre of the FCSTNORM2021 FILES\n",
        "import pickle\n",
        "\n",
        "with open('/content/FCSTNorm2021.pkl', 'rb') as f:\n",
        "  data = pickle.load(f)"
      ],
      "execution_count": null,
      "outputs": []
    },
    {
      "cell_type": "code",
      "source": [
        "data"
      ],
      "metadata": {
        "colab": {
          "base_uri": "https://localhost:8080/"
        },
        "id": "zjQV-aKOu69t",
        "outputId": "815ab9ce-61a3-4f32-b3db-13b3ae0b3044"
      },
      "id": "zjQV-aKOu69t",
      "execution_count": null,
      "outputs": [
        {
          "output_type": "execute_result",
          "data": {
            "text/plain": [
              "{'Convective available potential energy': {'min': 0.0,\n",
              "  'max': 5060.9165,\n",
              "  'mean': 353.36827374192967,\n",
              "  'std': 576.8885141782403},\n",
              " 'Convective precipitation (water)': {'min': 0.0,\n",
              "  'max': 10942.708,\n",
              "  'mean': 221.19678806460806,\n",
              "  'std': 510.6248432421585},\n",
              " 'Medium cloud cover': {'min': 0.0,\n",
              "  'max': 100.0,\n",
              "  'mean': 18.048821338712706,\n",
              "  'std': 26.28508984502161},\n",
              " 'Surface pressure': {'min': 66547.43,\n",
              "  'max': 102703.49,\n",
              "  'mean': 94929.37199037352,\n",
              "  'std': 5486.265313158451},\n",
              " 'Upward short-wave radiation flux': {'min': 0.0,\n",
              "  'max': 289.14667,\n",
              "  'mean': 43.595493802276515,\n",
              "  'std': 57.628844801216125},\n",
              " 'Downward short-wave radiation flux': {'min': 0.35599998,\n",
              "  'max': 722.91364,\n",
              "  'mean': 264.80159996631585,\n",
              "  'std': 256.85152430546674},\n",
              " '2 metre temperature': {'min': 274.87875,\n",
              "  'max': 319.77393,\n",
              "  'mean': 299.4504116180272,\n",
              "  'std': 5.612859447433858},\n",
              " 'Cloud water': {'min': 0.0,\n",
              "  'max': 2.7919734,\n",
              "  'mean': 0.04932853633297358,\n",
              "  'std': 0.11816838266414283},\n",
              " 'Precipitable water': {'min': 1.3325529,\n",
              "  'max': 69.05636,\n",
              "  'mean': 30.493366650591152,\n",
              "  'std': 12.712357671863415},\n",
              " 'Ice water mixing ratio': {'min': 6.1771566e-10,\n",
              "  'max': 1.1222236e-05,\n",
              "  'mean': 1.3535388180383725e-06,\n",
              "  'std': 9.618966973461153e-07},\n",
              " 'Cloud mixing ratio': {'min': 0.0,\n",
              "  'max': 2.0711168e-05,\n",
              "  'mean': 2.6121534673965965e-06,\n",
              "  'std': 2.303203391525192e-06},\n",
              " 'Rain mixing ratio': {'min': 3.6559882e-09,\n",
              "  'max': 1.2119445e-05,\n",
              "  'mean': 1.1232588365145453e-06,\n",
              "  'std': 9.935716323127969e-07},\n",
              " 'Total Precipitation': {'min': 0.0,\n",
              "  'max': 84.71354,\n",
              "  'mean': 0.27680166748014895,\n",
              "  'std': 0.8673525317132801},\n",
              " 'U component of wind': {'min': -8.617935,\n",
              "  'max': 9.2506075,\n",
              "  'mean': -1.0294324715236474,\n",
              "  'std': 4.244399127082102},\n",
              " 'V component of wind': {'min': -3.7482443,\n",
              "  'max': 4.318451,\n",
              "  'mean': 0.0705554960780469,\n",
              "  'std': 1.1787077266328987}}"
            ]
          },
          "metadata": {},
          "execution_count": 7
        }
      ]
    },
    {
      "cell_type": "code",
      "source": [
        "dictio"
      ],
      "metadata": {
        "id": "VEqUpDf_wdFf"
      },
      "id": "VEqUpDf_wdFf",
      "execution_count": null,
      "outputs": []
    },
    {
      "cell_type": "code",
      "source": [
        "# prompt: suppose que j'a des varialbes ,la moyenne , le maximum ,std,et le minimum de ces variables ,\n",
        "#   je veux cree un dictionnaire,en fait il faut que le nom de la variable soit dans le dictionnaire\n",
        "\n",
        "variables = ['var1', 'var2', 'var3'] # Example variable names\n",
        "mean = [10, 20, 30] # Example mean values\n",
        "maximum = [15, 25, 35] # Example maximum values\n",
        "std = [2, 3, 4] # Example standard deviation values\n",
        "minimum = [5, 15, 25] # Example minimum values\n",
        "\n",
        "\n",
        "dictio = {}\n",
        "for i, var in enumerate(variables):\n",
        "  dictio[var] = {'mean': mean[i], 'max': maximum[i], 'std': std[i], 'min': minimum[i]}\n",
        "\n",
        "dictio"
      ],
      "metadata": {
        "colab": {
          "base_uri": "https://localhost:8080/"
        },
        "id": "G5JvqMi-vHH6",
        "outputId": "401d70ca-5c1d-43e3-fcd8-27243173e2c5"
      },
      "id": "G5JvqMi-vHH6",
      "execution_count": null,
      "outputs": [
        {
          "output_type": "execute_result",
          "data": {
            "text/plain": [
              "{'var1': {'mean': 10, 'max': 15, 'std': 2, 'min': 5},\n",
              " 'var2': {'mean': 20, 'max': 25, 'std': 3, 'min': 15},\n",
              " 'var3': {'mean': 30, 'max': 35, 'std': 4, 'min': 25}}"
            ]
          },
          "metadata": {},
          "execution_count": 5
        }
      ]
    }
  ],
  "metadata": {
    "kernelspec": {
      "display_name": "Python 3",
      "language": "python",
      "name": "python3"
    },
    "language_info": {
      "codemirror_mode": {
        "name": "ipython",
        "version": 3
      },
      "file_extension": ".py",
      "mimetype": "text/x-python",
      "name": "python",
      "nbconvert_exporter": "python",
      "pygments_lexer": "ipython3",
      "version": "3.10.10"
    },
    "colab": {
      "provenance": [],
      "name": "create_FCSTNorm2018_file"
    }
  },
  "nbformat": 4,
  "nbformat_minor": 5
}